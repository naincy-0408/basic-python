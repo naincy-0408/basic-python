{
  "nbformat": 4,
  "nbformat_minor": 0,
  "metadata": {
    "colab": {
      "provenance": []
    },
    "kernelspec": {
      "name": "python3",
      "display_name": "Python 3"
    },
    "language_info": {
      "name": "python"
    }
  },
  "cells": [
    {
      "cell_type": "markdown",
      "source": [
        "#python basics"
      ],
      "metadata": {
        "id": "IplPItvKz2Xc"
      }
    },
    {
      "cell_type": "markdown",
      "source": [
        "1. write a python program to print \"Hello, World!\""
      ],
      "metadata": {
        "id": "5fvOPGLP0_FL"
      }
    },
    {
      "cell_type": "code",
      "source": [
        "print(\"Hello, World!\")"
      ],
      "metadata": {
        "colab": {
          "base_uri": "https://localhost:8080/"
        },
        "id": "0BRYEdFO1Psq",
        "outputId": "736dc236-91b6-4250-ed3b-84ddd89df189"
      },
      "execution_count": null,
      "outputs": [
        {
          "output_type": "stream",
          "name": "stdout",
          "text": [
            "Hello, World!\n"
          ]
        }
      ]
    },
    {
      "cell_type": "markdown",
      "source": [
        "2. write a python program that displays your name and age."
      ],
      "metadata": {
        "id": "jUI6j7-B1Qpe"
      }
    },
    {
      "cell_type": "code",
      "source": [
        "age=input(\"Enter name\")\n",
        "name=input(\"enter age \")\n",
        "print(\"my name is naincy and i am 23 years old\")"
      ],
      "metadata": {
        "colab": {
          "base_uri": "https://localhost:8080/"
        },
        "id": "fUZb4JwM1YOd",
        "outputId": "9c58d3a7-a988-4007-f9ce-471642d0efb9"
      },
      "execution_count": null,
      "outputs": [
        {
          "output_type": "stream",
          "name": "stdout",
          "text": [
            "Enter namenaincy\n",
            "enter age 23\n",
            "my name is naincy and i am 23 years old\n"
          ]
        }
      ]
    },
    {
      "cell_type": "markdown",
      "source": [
        "3. write a code to print all the pre-defined keywords in python using the keyword library."
      ],
      "metadata": {
        "id": "gXeuk0x31Yzt"
      }
    },
    {
      "cell_type": "code",
      "source": [
        "import keyword\n",
        "print    (keyword.kwlist)"
      ],
      "metadata": {
        "colab": {
          "base_uri": "https://localhost:8080/"
        },
        "id": "M7YqKXvmObZT",
        "outputId": "b80d002d-77b8-4552-a599-c8d2bdc2801e"
      },
      "execution_count": null,
      "outputs": [
        {
          "output_type": "stream",
          "name": "stdout",
          "text": [
            "['False', 'None', 'True', 'and', 'as', 'assert', 'async', 'await', 'break', 'class', 'continue', 'def', 'del', 'elif', 'else', 'except', 'finally', 'for', 'from', 'global', 'if', 'import', 'in', 'is', 'lambda', 'nonlocal', 'not', 'or', 'pass', 'raise', 'return', 'try', 'while', 'with', 'yield']\n"
          ]
        }
      ]
    },
    {
      "cell_type": "markdown",
      "source": [
        "4. write a program that checks if a given word is a python keyword."
      ],
      "metadata": {
        "id": "oiWpMfP91l-O"
      }
    },
    {
      "cell_type": "code",
      "source": [
        "import keyword\n",
        "def is_keyword(word):\n",
        "    return keyword. iskeyword(word)\n",
        "    word = input(\"Enter a word:\")\n",
        "    if is_keyword(word):\n",
        "        print(f\"{word} is a Python keyword.\")\n",
        "    else:\n",
        "        print(f\"{word} is not a Python keyword.\")"
      ],
      "metadata": {
        "id": "TmYzI2Ot1vao"
      },
      "execution_count": null,
      "outputs": []
    },
    {
      "cell_type": "markdown",
      "source": [
        "5. create a list and tuple in python, and demonstrate how attempting to change an element works differently for each."
      ],
      "metadata": {
        "id": "CHWAAubH1x5V"
      }
    },
    {
      "cell_type": "code",
      "source": [
        "#mutale behavior\n",
        "fruits_list = ['apple','banana','mango','pineapple']\n",
        "\n",
        "fruits_list[1] = 'kiwi'\n",
        "print(fruits_list)\n",
        "\n",
        "#its behaviour immutable\n",
        "fruits_tuple = ('apple','banana','mango','pineapple')\n",
        "\n",
        "#fruits_tuple[2] = 'kiwi'\n",
        "#print(fruits_tuple)\n",
        "\n",
        "#'tuple' oject does not support item\n",
        "\n"
      ],
      "metadata": {
        "colab": {
          "base_uri": "https://localhost:8080/"
        },
        "id": "oVjmpvef2B3m",
        "outputId": "4efec46b-d959-46b1-b947-0ca50c5ba5f6"
      },
      "execution_count": null,
      "outputs": [
        {
          "output_type": "stream",
          "name": "stdout",
          "text": [
            "['apple', 'kiwi', 'mango', 'pineapple']\n"
          ]
        }
      ]
    },
    {
      "cell_type": "markdown",
      "source": [
        "6. write a function to demonstrate the behavior of mutable and immutable arguments."
      ],
      "metadata": {
        "id": "r1djhhVD2Csv"
      }
    },
    {
      "cell_type": "code",
      "source": [
        "def modify_agruments(a, b):\n",
        "    a += 1\n",
        "    b.append(4)\n",
        "\n",
        "    x = 5 #immutable\n",
        "    y = [1, 2, 3] #mutable\n",
        "    modify_arguments(x, y)\n",
        "    print(\"x:\", x) # x remains unchanged\n",
        "    print(\"y:\", y) # y is modified in place\n"
      ],
      "metadata": {
        "id": "utdxHPxH2Yxv"
      },
      "execution_count": null,
      "outputs": []
    },
    {
      "cell_type": "markdown",
      "source": [
        "7. write a program to demonstrate the use of logical operators."
      ],
      "metadata": {
        "id": "FCKiSwpq2Za2"
      }
    },
    {
      "cell_type": "code",
      "source": [
        "a = 10\n",
        "b = 5\n",
        "c = 8\n",
        "\n",
        "if a > b and a > c:\n",
        "    print(\"a is the largest number\")\n",
        "elif b > a and b > c:\n",
        "    print(\"b is the largest number\")\n",
        "else:\n",
        "    print(\"c is the largest number\")\n"
      ],
      "metadata": {
        "colab": {
          "base_uri": "https://localhost:8080/"
        },
        "id": "_Kyi7ots2xXB",
        "outputId": "95c1b27b-11e1-445b-e422-e550b01ae426"
      },
      "execution_count": null,
      "outputs": [
        {
          "output_type": "stream",
          "name": "stdout",
          "text": [
            "a is the largest number\n"
          ]
        }
      ]
    },
    {
      "cell_type": "markdown",
      "source": [
        "8. write a python program to convert user input from string to integer, float and boolean types."
      ],
      "metadata": {
        "id": "jqL4mBiE2x_g"
      }
    },
    {
      "cell_type": "code",
      "source": [
        "def convert_to_integer(value):\n",
        "    \"\"\"converts user input to integer, float, or boolean type.\"\"\"\n",
        "    try:\n",
        "        return int(value)\n",
        "    except ValueError:\n",
        "        try:\n",
        "            return float(value)\n",
        "        except ValueError:\n",
        "            return bool(value)\n"
      ],
      "metadata": {
        "id": "XUj18BOj3Fx0"
      },
      "execution_count": null,
      "outputs": []
    },
    {
      "cell_type": "markdown",
      "source": [
        "9. write code to demonstrate type casting with list elements."
      ],
      "metadata": {
        "id": "XDo6h1qg3GyW"
      }
    },
    {
      "cell_type": "code",
      "source": [
        "#example: converting strings to integers\n",
        "str_list = [\"1\", \"2\", \"3\", \"4\", \"5\"]\n",
        "int_list = [int(x) for x in str_list]\n",
        "print(int_list)\n",
        "\n",
        "#example: converting integers to strings\n",
        "int_list = [1, 2, 3, 4, 5]\n",
        "str_list = [str(x) for x in int_list]\n",
        "print(str_list)\n"
      ],
      "metadata": {
        "colab": {
          "base_uri": "https://localhost:8080/"
        },
        "id": "8lqMdNm03O3I",
        "outputId": "5f4ec02d-853d-4eed-be7c-e5f73bc8895f"
      },
      "execution_count": null,
      "outputs": [
        {
          "output_type": "stream",
          "name": "stdout",
          "text": [
            "[1, 2, 3, 4, 5]\n",
            "['1', '2', '3', '4', '5']\n"
          ]
        }
      ]
    },
    {
      "cell_type": "markdown",
      "source": [
        "10. write a program that checks if a number is positive, negative, or zero."
      ],
      "metadata": {
        "id": "ihNxLLyJ3Plm"
      }
    },
    {
      "cell_type": "code",
      "source": [
        "num = float(input(\"Enter a number: \"))\n",
        "if num > 0:\n",
        "    print(\"The number is positive.\")\n",
        "elif num < 0:\n",
        "    print(\"The number is negative.\")\n",
        "else:\n",
        "    print(\"The number is zero.\")"
      ],
      "metadata": {
        "colab": {
          "base_uri": "https://localhost:8080/"
        },
        "id": "e9skILH63aoH",
        "outputId": "1ccf5ee8-bd52-4297-a0ab-4e3503123714"
      },
      "execution_count": null,
      "outputs": [
        {
          "output_type": "stream",
          "name": "stdout",
          "text": [
            "Enter a number: 0\n",
            "The number is zero.\n"
          ]
        }
      ]
    },
    {
      "cell_type": "markdown",
      "source": [
        "11. write a for loop to print numbers from 1 to 10."
      ],
      "metadata": {
        "id": "w9AIzTcU3baE"
      }
    },
    {
      "cell_type": "code",
      "source": [
        "for i in range(1, 11):\n",
        "    print(i)"
      ],
      "metadata": {
        "colab": {
          "base_uri": "https://localhost:8080/"
        },
        "id": "i_XcBMT-3j7x",
        "outputId": "f56aff4e-7408-41ef-e4fa-22164a018f52"
      },
      "execution_count": null,
      "outputs": [
        {
          "output_type": "stream",
          "name": "stdout",
          "text": [
            "1\n",
            "2\n",
            "3\n",
            "4\n",
            "5\n",
            "6\n",
            "7\n",
            "8\n",
            "9\n",
            "10\n"
          ]
        }
      ]
    },
    {
      "cell_type": "markdown",
      "source": [
        "12. write a python program to find the sum of all even numbers between 1 and 50."
      ],
      "metadata": {
        "id": "Y1nH8GXy3kot"
      }
    },
    {
      "cell_type": "code",
      "source": [
        "num = int(input(\"Enter a number: \"))\n",
        "sum = 0\n",
        "for i in range(1, num + 1):\n",
        "    if i % 2 == 0:\n",
        "        sum += i\n",
        "        print(sum)"
      ],
      "metadata": {
        "colab": {
          "base_uri": "https://localhost:8080/"
        },
        "id": "HyVms0dh3yh6",
        "outputId": "38fff1ce-b367-4edf-d969-90be7fac847e"
      },
      "execution_count": null,
      "outputs": [
        {
          "output_type": "stream",
          "name": "stdout",
          "text": [
            "Enter a number: 50\n",
            "2\n",
            "6\n",
            "12\n",
            "20\n",
            "30\n",
            "42\n",
            "56\n",
            "72\n",
            "90\n",
            "110\n",
            "132\n",
            "156\n",
            "182\n",
            "210\n",
            "240\n",
            "272\n",
            "306\n",
            "342\n",
            "380\n",
            "420\n",
            "462\n",
            "506\n",
            "552\n",
            "600\n",
            "650\n"
          ]
        }
      ]
    },
    {
      "cell_type": "markdown",
      "source": [
        "13. write a program to reverse a string using a while loop."
      ],
      "metadata": {
        "id": "tJAYKp1w3zQm"
      }
    },
    {
      "cell_type": "code",
      "source": [
        "name= str((input(\"enter your name\")))\n",
        "i = len(name) - 1\n",
        "reversed_name = \"\"\n",
        "while i >= 0:\n",
        "    reversed_name += name[i]\n",
        "    i -= 1\n",
        "print(reversed_name)"
      ],
      "metadata": {
        "colab": {
          "base_uri": "https://localhost:8080/"
        },
        "id": "M4cNOkR9XRq2",
        "outputId": "b416277f-7c81-43dc-819f-b9649650246f"
      },
      "execution_count": null,
      "outputs": [
        {
          "output_type": "stream",
          "name": "stdout",
          "text": [
            "enter your namenaincy\n",
            "ycnian\n"
          ]
        }
      ]
    },
    {
      "cell_type": "markdown",
      "source": [
        "14. write a python program to calculate the factorial of a number provided by the user using a while loop."
      ],
      "metadata": {
        "id": "-UbNbzEG38c5"
      }
    },
    {
      "cell_type": "code",
      "source": [
        "num= int(input(\"enter a number\"))\n",
        "factorial = 1\n",
        "i = 1\n",
        "# check for negative numbers\n",
        "if num < 0:\n",
        "    print(\"Sorry, factorial does not exist for negative numbers\")\n",
        "elif num == 0:\n",
        "    print(\"The factorial of 0 is 1\")\n",
        "else:\n",
        "  # calculate factorial using a while loop\n",
        "  while i <= num:\n",
        "    factorial *= i\n",
        "    i += 1\n",
        "print(\"the factorial of\", num, \"is\", factorial)"
      ],
      "metadata": {
        "colab": {
          "base_uri": "https://localhost:8080/"
        },
        "id": "nvmsYxiobNbU",
        "outputId": "f543ddbe-7b20-4fcf-99df-ba1c4a8e29e0"
      },
      "execution_count": null,
      "outputs": [
        {
          "output_type": "stream",
          "name": "stdout",
          "text": [
            "enter a number24\n",
            "the factorial of 24 is 620448401733239439360000\n"
          ]
        }
      ]
    },
    {
      "cell_type": "markdown",
      "source": [],
      "metadata": {
        "id": "DudRN4QM0tCa"
      }
    },
    {
      "cell_type": "code",
      "execution_count": null,
      "metadata": {
        "id": "H74kslqZwlD2"
      },
      "outputs": [],
      "source": []
    },
    {
      "cell_type": "markdown",
      "source": [],
      "metadata": {
        "id": "6Td_OJz6wr8t"
      }
    }
  ]
}